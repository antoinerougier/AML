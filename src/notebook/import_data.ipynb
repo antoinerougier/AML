{
 "cells": [
  {
   "cell_type": "markdown",
   "metadata": {},
   "source": [
    "# This notebook read the zip file and transform it into a csv file"
   ]
  },
  {
   "cell_type": "code",
   "execution_count": 2,
   "metadata": {},
   "outputs": [
    {
     "name": "stdout",
     "output_type": "stream",
     "text": [
      "Extraction réussie dans le dossier : data\n"
     ]
    }
   ],
   "source": [
    "import zipfile\n",
    "import os\n",
    "\n",
    "zip_file_path = \"data/voice.csv.zip\"\n",
    "\n",
    "extract_dir = \"data\"\n",
    "\n",
    "if os.path.exists(zip_file_path):\n",
    "    try:\n",
    "        with zipfile.ZipFile(zip_file_path, 'r') as zip_ref:\n",
    "            zip_ref.extractall(extract_dir)\n",
    "            print(f\"Extraction réussie dans le dossier : {extract_dir}\")\n",
    "    except zipfile.BadZipFile:\n",
    "        print(\"Erreur : Le fichier ZIP est corrompu.\")\n",
    "else:\n",
    "    print(f\"Erreur : Le fichier {zip_file_path} n'existe pas.\")\n"
   ]
  }
 ],
 "metadata": {
  "kernelspec": {
   "display_name": "Python 3",
   "language": "python",
   "name": "python3"
  },
  "language_info": {
   "codemirror_mode": {
    "name": "ipython",
    "version": 3
   },
   "file_extension": ".py",
   "mimetype": "text/x-python",
   "name": "python",
   "nbconvert_exporter": "python",
   "pygments_lexer": "ipython3",
   "version": "3.11.8"
  }
 },
 "nbformat": 4,
 "nbformat_minor": 2
}
