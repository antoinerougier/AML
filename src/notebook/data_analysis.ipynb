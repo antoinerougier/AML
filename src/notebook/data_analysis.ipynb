{
  "cells": [
    {
      "cell_type": "markdown",
      "metadata": {
        "id": "JhsTIY_zEl-e"
      },
      "source": [
        "# Data Analysis Notebook"
      ]
    },
    {
      "cell_type": "markdown",
      "metadata": {
        "id": "7FBugDYZEsLP"
      },
      "source": [
        "This notebook presents various visualizations of the \"voice.csv\" dataset to better understand the relationships between variables and the context of the study."
      ]
    },
    {
      "cell_type": "markdown",
      "metadata": {
        "id": "fVI-uOtmFNHR"
      },
      "source": [
        "# Dependencies & Data Import"
      ]
    },
    {
      "cell_type": "code",
      "execution_count": 1,
      "metadata": {
        "id": "ifPetkP9E5Sp"
      },
      "outputs": [],
      "source": [
        "import pandas as pd\n",
        "from scipy.stats import pointbiserialr\n",
        "import plotly.express as px\n",
        "import plotly.graph_objects as go\n",
        "from plotly.subplots import make_subplots"
      ]
    },
    {
      "cell_type": "code",
      "execution_count": 2,
      "metadata": {
        "id": "4fPMkP3UE5Sr"
      },
      "outputs": [],
      "source": [
        "file_path = \"data/voice.csv\"\n",
        "data = pd.read_csv(file_path)\n",
        "\n",
        "data['label'] = data['label'].map({'male': 1, 'female': 0})\n"
      ]
    },
    {
      "cell_type": "markdown",
      "metadata": {
        "id": "hT1XB7TGFpyp"
      },
      "source": [
        "# Data Description"
      ]
    },
    {
      "cell_type": "markdown",
      "metadata": {
        "id": "5B8mVBQPHbE1"
      },
      "source": [
        "## Variables Description"
      ]
    },
    {
      "cell_type": "code",
      "execution_count": null,
      "metadata": {
        "colab": {
          "base_uri": "https://localhost:8080/",
          "height": 697
        },
        "id": "NMSvOddRHhz5",
        "outputId": "f6e462e2-4dfd-4a8e-bb90-1a7c6cef062e"
      },
      "outputs": [],
      "source": [
        "features = data.drop(columns=['label'])\n",
        "\n",
        "stats_df = pd.DataFrame({\n",
        "    'Var_Name': features.columns,\n",
        "    'Mean': features.mean(),\n",
        "    'Standard_Deviation': features.std()\n",
        "}).reset_index(drop=True)\n",
        "\n",
        "stats_df['Description'] = [\"mean frequency (in kHz)\", \"standard deviation of frequency\", \"median frequency (in kHz)\", \"first quantile (in kHz)\", \"third quantile (in kHz)\", \"interquantile range (in kHz)\", \"skewness\", \"kurtosis\", \"spectral entropy\", \"spectral flatness\", \"mode frequency\", \"frequency centroid\", \"average of fundamental frequency\", \"minimum fundamental frequency\", \"maximum fundamental frequency\", \"average of dominant frequency\", \"minimum of dominant frequency\", \"maximum of dominant frequency\", \"range of dominant frequency\",\"modulation index\" ]\n",
        "stats_df\n"
      ]
    },
    {
      "cell_type": "markdown",
      "metadata": {
        "id": "d-DirVuQLPmI"
      },
      "source": [
        "## Correlation & P-values"
      ]
    },
    {
      "cell_type": "code",
      "execution_count": null,
      "metadata": {
        "colab": {
          "base_uri": "https://localhost:8080/",
          "height": 937
        },
        "id": "K7QlNB-vNkN-",
        "outputId": "34140b11-2b52-4420-fb0a-a2d36e40c599"
      },
      "outputs": [],
      "source": [
        "numerical_columns = data.select_dtypes(include=['float64', 'int64']).columns\n",
        "\n",
        "# Calculate the correlation matrix for all numerical columns\n",
        "correlation_matrix = data[numerical_columns].corr()\n",
        "\n",
        "# Reverse the order of the rows and columns to make the diagonal go from top-right to bottom-left\n",
        "correlation_matrix = correlation_matrix.iloc[::-1, ::]\n",
        "\n",
        "# Create the Heatmap\n",
        "fig_heatmap = go.Figure(data=go.Heatmap(\n",
        "    z=correlation_matrix.values,\n",
        "    x=correlation_matrix.columns,\n",
        "    y=correlation_matrix.index,\n",
        "    colorscale='magenta',\n",
        "    colorbar=dict(title=\"Correlation\")\n",
        "))\n",
        "\n",
        "# Add value of the correlation values\n",
        "annotations = []\n",
        "for i in range(len(correlation_matrix)):\n",
        "    for j in range(len(correlation_matrix.columns)):\n",
        "        annotations.append(\n",
        "            go.layout.Annotation(\n",
        "                x=j,\n",
        "                y=i,\n",
        "                text=f\"{correlation_matrix.iloc[i, j]:.2f}\",  # Round correlation values to 2 decimal places\n",
        "                showarrow=False,\n",
        "                font=dict(color=\"black\"),\n",
        "                align=\"center\"\n",
        "            )\n",
        "        )\n",
        "\n",
        "# Final adjusments (height, annotations, ...)\n",
        "fig_heatmap.update_layout(\n",
        "    annotations=annotations,\n",
        "    title=\"Correlation Matrix Heatmap\",\n",
        "    xaxis_title=\"Features\",\n",
        "    yaxis_title=\"Features\",\n",
        "    xaxis=dict(tickangle=45),\n",
        "    yaxis=dict(tickangle=45),\n",
        "    height=900\n",
        ")\n",
        "\n",
        "# Show the heatmap\n",
        "fig_heatmap.show()"
      ]
    },
    {
      "cell_type": "code",
      "execution_count": null,
      "metadata": {
        "colab": {
          "base_uri": "https://localhost:8080/",
          "height": 697
        },
        "id": "V7r4BNMRE5Sr",
        "outputId": "a84a4233-e1a0-4e3a-eed2-d2307d571ad9"
      },
      "outputs": [],
      "source": [
        "numerical_columns = data.select_dtypes(include=['float64', 'int64']).columns\n",
        "\n",
        "correlations = {}\n",
        "for col in numerical_columns:\n",
        "    if col != 'label':\n",
        "        corr, p_value = pointbiserialr(data['label'], data[col])\n",
        "        correlations[col] = {'correlation': corr, 'p_value': p_value}\n",
        "\n",
        "correlation_df = pd.DataFrame(correlations).T\n",
        "correlation_df"
      ]
    },
    {
      "cell_type": "code",
      "execution_count": null,
      "metadata": {
        "colab": {
          "base_uri": "https://localhost:8080/",
          "height": 562
        },
        "id": "bUVTbwSNLckE",
        "outputId": "ba1d72fa-cb35-4f8a-e6b8-1b58910f4575"
      },
      "outputs": [],
      "source": [
        "central_color = px.colors.sequential.Magenta[3]\n",
        "\n",
        "fig_corr = go.Figure()\n",
        "\n",
        "fig_corr.add_trace(go.Bar(\n",
        "    x=correlation_df.index,\n",
        "    y=correlation_df['correlation'],\n",
        "    name='Correlation',\n",
        "    marker=dict(\n",
        "        color=central_color  # Apply the central magenta color\n",
        "    )\n",
        "))\n",
        "\n",
        "fig_corr.update_layout(\n",
        "    title=\"Feature Correlations with Label\",\n",
        "    xaxis_title=\"Features\",\n",
        "    yaxis_title=\"Correlation\",\n",
        "    barmode='group'\n",
        ")\n",
        "\n",
        "# Show the plot\n",
        "fig_corr.show()\n"
      ]
    },
    {
      "cell_type": "markdown",
      "metadata": {
        "id": "Gz9ttfLrP0Oy"
      },
      "source": [
        "**Best features** : interquantile range (IRQ), spectral entropy (sp.ent), spectral flatness (sfm)\n",
        "\n"
      ]
    },
    {
      "cell_type": "markdown",
      "metadata": {
        "id": "roAzXESEQSUU"
      },
      "source": [
        "# Key Features Distributions Group By Label"
      ]
    },
    {
      "cell_type": "code",
      "execution_count": null,
      "metadata": {
        "colab": {
          "base_uri": "https://localhost:8080/",
          "height": 937
        },
        "id": "DfFoKG6tE5St",
        "outputId": "d18b16d3-5ebb-4c9b-f3a3-d71e81de330b"
      },
      "outputs": [],
      "source": [
        "\n",
        "# List of variables to plot\n",
        "variables = [\"IQR\", \"sfm\", \"sp.ent\", \"meanfun\"]\n",
        "real_variables = [\"Interquantile Range (kHz)\", \"Spectral Flatness\", \"Spectral Entropy\", \"Average of Fundamental Frequency\"]\n",
        "colors = [px.colors.sequential.Magenta[1], px.colors.sequential.Magenta[5]]  # Color for label 0 and label 1\n",
        "\n",
        "# Create subplots (2 rows, 2 columns)\n",
        "fig = make_subplots(\n",
        "    rows=2, cols=2,\n",
        "    subplot_titles=real_variables,\n",
        "    shared_yaxes=False,\n",
        "    vertical_spacing=0.1,\n",
        "    horizontal_spacing=0.1\n",
        ")\n",
        "\n",
        "# Loop through the variables to create each box plot\n",
        "for i, var in enumerate(variables):\n",
        "    row = i // 2 + 1\n",
        "    col = i % 2 + 1\n",
        "\n",
        "    # Create a trace for label = 0\n",
        "    fig.add_trace(\n",
        "        go.Box(\n",
        "            x=data[data[\"label\"] == 0][\"label\"],\n",
        "            y=data[data[\"label\"] == 0][var],\n",
        "            boxmean=\"sd\",\n",
        "            marker=dict(color=colors[0]),\n",
        "            name=f\"{var} (label = 0)\",\n",
        "            width=0.5,\n",
        "            line=dict(width=2),\n",
        "            boxpoints=\"all\"\n",
        "        ),\n",
        "        row=row, col=col\n",
        "    )\n",
        "\n",
        "    # Create a trace for label = 1\n",
        "    fig.add_trace(\n",
        "        go.Box(\n",
        "            x=data[data[\"label\"] == 1][\"label\"],\n",
        "            y=data[data[\"label\"] == 1][var],\n",
        "            boxmean=\"sd\",\n",
        "            marker=dict(color=colors[1]),\n",
        "            name=f\"{var} (label = 1)\",\n",
        "            width=0.5,\n",
        "            line=dict(width=2),\n",
        "            boxpoints=\"all\"\n",
        "        ),\n",
        "        row=row, col=col\n",
        "    )\n",
        "\n",
        "# Update layout\n",
        "fig.update_layout(\n",
        "    title=\"Boxplots for Different Variables Grouped by Label\",\n",
        "    showlegend=False,\n",
        "    template=\"plotly_white\",\n",
        "    height=900,  # Adjust height for better visibility\n",
        "    width=1700,  # Adjust width for better spacing\n",
        "    xaxis_title=\"\",\n",
        "    yaxis_title=\"\",\n",
        "    boxmode='group'\n",
        ")\n",
        "# Show the plot\n",
        "fig.show()\n"
      ]
    },
    {
      "cell_type": "code",
      "execution_count": null,
      "metadata": {},
      "outputs": [],
      "source": []
    }
  ],
  "metadata": {
    "colab": {
      "provenance": []
    },
    "kernelspec": {
      "display_name": "Python 3",
      "language": "python",
      "name": "python3"
    },
    "language_info": {
      "codemirror_mode": {
        "name": "ipython",
        "version": 3
      },
      "file_extension": ".py",
      "mimetype": "text/x-python",
      "name": "python",
      "nbconvert_exporter": "python",
      "pygments_lexer": "ipython3",
      "version": "3.11.8"
    }
  },
  "nbformat": 4,
  "nbformat_minor": 0
}
